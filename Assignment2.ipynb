{
 "cells": [
  {
   "cell_type": "markdown",
   "metadata": {},
   "source": [
    "# Program 1"
   ]
  },
  {
   "cell_type": "markdown",
   "metadata": {},
   "source": [
    "Write a program to check a number is positive or nagitive"
   ]
  },
  {
   "cell_type": "code",
   "execution_count": 3,
   "metadata": {},
   "outputs": [
    {
     "name": "stdout",
     "output_type": "stream",
     "text": [
      "positive\n"
     ]
    }
   ],
   "source": [
    "a=16\n",
    "if a>0:\n",
    "    print(\"positive\")\n",
    "elif a<0:\n",
    "    print(\"nagitive\")"
   ]
  },
  {
   "cell_type": "markdown",
   "metadata": {},
   "source": [
    "# Program 2"
   ]
  },
  {
   "cell_type": "markdown",
   "metadata": {},
   "source": [
    "Write a program to take in the marks oh 5 subject and Display the Grade"
   ]
  },
  {
   "cell_type": "code",
   "execution_count": 8,
   "metadata": {},
   "outputs": [
    {
     "name": "stdout",
     "output_type": "stream",
     "text": [
      "60.72727272727273\n",
      "grade A\n"
     ]
    }
   ],
   "source": [
    "math = 80\n",
    "eng = 57\n",
    "phy = 67\n",
    "chem = 60\n",
    "bio = 70\n",
    "result=(math+eng+phy+chem+bio)/550*100\n",
    "print(result)\n",
    "if result >900:\n",
    "    print('grade A+')\n",
    "elif result <850:\n",
    "    print('grade A')\n",
    "elif result >600:\n",
    "    print('grade B')\n",
    "elif result <450:\n",
    "    print('grade C')\n",
    "elif result >300:\n",
    "    print('grade D')\n",
    "else:\n",
    "    print('fail')"
   ]
  },
  {
   "cell_type": "markdown",
   "metadata": {},
   "source": [
    "# Program 3"
   ]
  },
  {
   "cell_type": "markdown",
   "metadata": {},
   "source": [
    "write a program to read two number and print thair qoutation and reminder"
   ]
  },
  {
   "cell_type": "code",
   "execution_count": 10,
   "metadata": {},
   "outputs": [
    {
     "name": "stdout",
     "output_type": "stream",
     "text": [
      "1.4230769230769231\n",
      "11\n"
     ]
    }
   ],
   "source": [
    "x = 37\n",
    "y =  26\n",
    "\n",
    "Quoitation = x/y\n",
    "Reminder = x%y\n",
    "print(Quoitation)\n",
    "print(Reminder)"
   ]
  },
  {
   "cell_type": "markdown",
   "metadata": {},
   "source": [
    "# Program 4"
   ]
  },
  {
   "cell_type": "markdown",
   "metadata": {},
   "source": [
    "write the program to print all integers that aren't Divisible bt eigther 2 or 3  and lie b/w 1 and 50"
   ]
  },
  {
   "cell_type": "code",
   "execution_count": 2,
   "metadata": {},
   "outputs": [
    {
     "name": "stdout",
     "output_type": "stream",
     "text": [
      "1\n",
      "5\n",
      "7\n",
      "11\n",
      "13\n",
      "17\n",
      "19\n",
      "23\n",
      "25\n",
      "29\n",
      "31\n",
      "35\n",
      "37\n",
      "41\n",
      "43\n",
      "47\n",
      "49\n"
     ]
    }
   ],
   "source": [
    "for i in range(0,51):\n",
    "    if(i%2!=0 and i%3!=0):\n",
    "        print(i)"
   ]
  },
  {
   "cell_type": "markdown",
   "metadata": {},
   "source": [
    "# Program 5"
   ]
  },
  {
   "cell_type": "markdown",
   "metadata": {},
   "source": [
    "write a program toExchange the value of two numbers without using the value of temprory variable"
   ]
  },
  {
   "cell_type": "code",
   "execution_count": 4,
   "metadata": {},
   "outputs": [
    {
     "name": "stdout",
     "output_type": "stream",
     "text": [
      "a=  5 b=  10\n"
     ]
    }
   ],
   "source": [
    "a=10\n",
    "b=5\n",
    "a=a+b\n",
    "b=a-b\n",
    "a=a-b\n",
    "print(\"a= \",a,\"b= \",b)"
   ]
  },
  {
   "cell_type": "markdown",
   "metadata": {},
   "source": [
    "# Program 6"
   ]
  },
  {
   "cell_type": "markdown",
   "metadata": {},
   "source": [
    "write a program to find the area of triangle given all three sides"
   ]
  },
  {
   "cell_type": "code",
   "execution_count": 18,
   "metadata": {},
   "outputs": [
    {
     "name": "stdout",
     "output_type": "stream",
     "text": [
      "the area of the triangle is 89.98\n"
     ]
    }
   ],
   "source": [
    "import math\n",
    "a=19\n",
    "b=15\n",
    "c=12\n",
    "s=(a+b+c)/2\n",
    " \n",
    "area =math.sqrt(s*(s-a)*(s-b)*(s-c))\n",
    "print('the area of the triangle is %0.2f' %area)"
   ]
  },
  {
   "cell_type": "markdown",
   "metadata": {},
   "source": [
    "# Program 7"
   ]
  },
  {
   "cell_type": "markdown",
   "metadata": {},
   "source": [
    "write a program to print largest even and largest odd number in the list"
   ]
  },
  {
   "cell_type": "code",
   "execution_count": 21,
   "metadata": {},
   "outputs": [
    {
     "name": "stdout",
     "output_type": "stream",
     "text": [
      "Element97\n",
      "Element86\n",
      "Element87\n",
      "Element46\n",
      "Element76\n",
      "Element34\n",
      "Element76\n",
      "Element89\n",
      "Largest Even # = 86\n",
      "Largest Odd # = 97\n"
     ]
    }
   ],
   "source": [
    "n=8\n",
    "b=[]\n",
    "for i in range(0,n):\n",
    "    a=int(input(\"Element\"))\n",
    "    b.append(a)\n",
    "c=[]\n",
    "d=[]\n",
    "\n",
    "for i in b:\n",
    "    if(i%2==0):\n",
    "        c.append(i)\n",
    "    else:\n",
    "        d.append(i)\n",
    "c.sort()\n",
    "d.sort()\n",
    "count1=0\n",
    "count2=0\n",
    "\n",
    "for k in c:\n",
    "    count1=count1+1\n",
    "for j in d:\n",
    "    count2=count2+1\n",
    "    \n",
    "print('Largest Even # =',c[count1-1])\n",
    "print('Largest Odd # =',d[count2-1])"
   ]
  },
  {
   "cell_type": "markdown",
   "metadata": {},
   "source": [
    "# Program 8"
   ]
  },
  {
   "cell_type": "markdown",
   "metadata": {},
   "source": [
    "write a program to find the second largest number in the list"
   ]
  },
  {
   "cell_type": "code",
   "execution_count": 22,
   "metadata": {},
   "outputs": [
    {
     "name": "stdout",
     "output_type": "stream",
     "text": [
      "Enter element:86\n",
      "Enter element:78\n",
      "Enter element:98\n",
      "Enter element:75\n",
      "Enter element:95\n",
      "Enter element:24\n",
      "Enter element:57\n",
      "Enter element:89\n",
      "Enter element:89\n",
      "Second largest element is: 95\n"
     ]
    }
   ],
   "source": [
    "a=[]\n",
    "n=9\n",
    "for i in range(1,n+1):\n",
    "    b=int(input(\"Enter element:\"))\n",
    "    a.append(b)\n",
    "a.sort()\n",
    "print(\"Second largest element is:\",a[n-2])"
   ]
  },
  {
   "cell_type": "markdown",
   "metadata": {},
   "source": [
    "# Program 9"
   ]
  },
  {
   "cell_type": "markdown",
   "metadata": {},
   "source": [
    "write a program to find the union of two lists"
   ]
  },
  {
   "cell_type": "code",
   "execution_count": 24,
   "metadata": {},
   "outputs": [
    {
     "name": "stdout",
     "output_type": "stream",
     "text": [
      "enter Element1:66\n",
      "enter Element2:77\n",
      "enter Element3:88\n",
      "enter Element4:66\n",
      "enter Element5:44\n",
      "Original list is ... [66, 77, 88, 66, 44]\n",
      "new list is ... [66, 143, 231, 297, 341]\n"
     ]
    }
   ],
   "source": [
    "a=[]\n",
    "n=5\n",
    "for x in range(0,n):\n",
    "    element=int(input(\"enter Element\"+str(x+1)+\":\"))\n",
    "    a.append(element)\n",
    "b=[sum(a[0:x+1]) for x in range(0,len(a))]\n",
    "print(\"Original list is ...\",a)\n",
    "print(\"new list is ...\",b)"
   ]
  }
 ],
 "metadata": {
  "kernelspec": {
   "display_name": "Python 3",
   "language": "python",
   "name": "python3"
  },
  "language_info": {
   "codemirror_mode": {
    "name": "ipython",
    "version": 3
   },
   "file_extension": ".py",
   "mimetype": "text/x-python",
   "name": "python",
   "nbconvert_exporter": "python",
   "pygments_lexer": "ipython3",
   "version": "3.7.4"
  }
 },
 "nbformat": 4,
 "nbformat_minor": 2
}
